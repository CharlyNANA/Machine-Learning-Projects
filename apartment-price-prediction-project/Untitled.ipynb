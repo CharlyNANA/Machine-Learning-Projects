{
 "cells": [
  {
   "cell_type": "code",
   "execution_count": 1,
   "metadata": {},
   "outputs": [],
   "source": [
    "import numpy as np\n",
    "\n",
    "vect = np.random.randn(4, 3)"
   ]
  },
  {
   "cell_type": "code",
   "execution_count": 2,
   "metadata": {},
   "outputs": [
    {
     "data": {
      "text/plain": [
       "array([[-1.06338551,  0.27678748, -0.26203555],\n",
       "       [ 0.59882692, -0.01301252,  0.48442794],\n",
       "       [-0.18736234,  0.64305756, -1.46516338],\n",
       "       [ 1.6101792 , -1.07688552,  1.8326678 ]])"
      ]
     },
     "execution_count": 2,
     "metadata": {},
     "output_type": "execute_result"
    }
   ],
   "source": []
  },
  {
   "cell_type": "code",
   "execution_count": 3,
   "metadata": {},
   "outputs": [
    {
     "data": {
      "text/plain": [
       "1.3781020769003915"
      ]
     },
     "execution_count": 3,
     "metadata": {},
     "output_type": "execute_result"
    }
   ],
   "source": [
    "vect.sum()"
   ]
  },
  {
   "cell_type": "code",
   "execution_count": 30,
   "metadata": {},
   "outputs": [
    {
     "data": {
      "text/plain": [
       "array([[-1.02547828, -0.68208453,  0.90326895],\n",
       "       [-0.19209147, -0.98852061,  0.40763643]])"
      ]
     },
     "execution_count": 30,
     "metadata": {},
     "output_type": "execute_result"
    }
   ],
   "source": [
    "a[0][1]"
   ]
  },
  {
   "cell_type": "code",
   "execution_count": 19,
   "metadata": {},
   "outputs": [
    {
     "data": {
      "text/plain": [
       "array([[[[ 0.48919425,  1.09841711,  0.20899724],\n",
       "         [-1.10105209,  1.05821219, -1.32661322]],\n",
       "\n",
       "        [[-1.02547828, -0.68208453,  0.90326895],\n",
       "         [-0.19209147, -0.98852061,  0.40763643]],\n",
       "\n",
       "        [[ 0.5955812 ,  0.1459882 , -1.41524583],\n",
       "         [-1.02023904, -2.33976778, -1.52018717]]],\n",
       "\n",
       "\n",
       "       [[[-0.56686845,  1.29022951, -0.68805121],\n",
       "         [ 1.12494808,  0.69039012,  0.47913708]],\n",
       "\n",
       "        [[-2.37307721, -0.11113159, -1.20162946],\n",
       "         [ 0.53142045, -0.07236708, -0.33296522]],\n",
       "\n",
       "        [[-1.60191159,  0.42825722,  0.46601253],\n",
       "         [ 0.24798787, -0.27410323,  0.57664818]]],\n",
       "\n",
       "\n",
       "       [[[-2.44163023, -0.55672005,  0.97552243],\n",
       "         [-1.08617604,  1.68863399, -1.23893593]],\n",
       "\n",
       "        [[-0.56714872, -2.60786517, -0.2868573 ],\n",
       "         [-0.7509293 , -0.21987761, -1.29013856]],\n",
       "\n",
       "        [[-1.6175755 ,  0.38669742, -1.49516612],\n",
       "         [-0.92311524,  0.78293493, -0.68936009]]],\n",
       "\n",
       "\n",
       "       [[[-0.55545685, -0.31267726,  0.47010869],\n",
       "         [ 1.39482987, -0.10183047,  0.20693446]],\n",
       "\n",
       "        [[-0.73077052,  0.651337  ,  1.23437178],\n",
       "         [ 0.69961606,  0.11042416,  0.40416907]],\n",
       "\n",
       "        [[-1.05585171, -0.7385948 , -0.21718625],\n",
       "         [-0.02408457, -0.76260256, -1.87819654]]]])"
      ]
     },
     "execution_count": 19,
     "metadata": {},
     "output_type": "execute_result"
    }
   ],
   "source": [
    "a = np.random.randn(4, 3, 2, 3)\n",
    "a"
   ]
  },
  {
   "cell_type": "code",
   "execution_count": 25,
   "metadata": {},
   "outputs": [
    {
     "data": {
      "text/plain": [
       "array([[ 0.5955812 ,  0.1459882 , -1.41524583],\n",
       "       [-1.02023904, -2.33976778, -1.52018717]])"
      ]
     },
     "execution_count": 25,
     "metadata": {},
     "output_type": "execute_result"
    }
   ],
   "source": [
    "a[0, 2]"
   ]
  }
 ],
 "metadata": {
  "kernelspec": {
   "display_name": "Python 3",
   "language": "python",
   "name": "python3"
  },
  "language_info": {
   "codemirror_mode": {
    "name": "ipython",
    "version": 3
   },
   "file_extension": ".py",
   "mimetype": "text/x-python",
   "name": "python",
   "nbconvert_exporter": "python",
   "pygments_lexer": "ipython3",
   "version": "3.8.5"
  }
 },
 "nbformat": 4,
 "nbformat_minor": 4
}
